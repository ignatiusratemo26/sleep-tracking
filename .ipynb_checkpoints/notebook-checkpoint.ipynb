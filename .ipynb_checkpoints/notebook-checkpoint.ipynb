{
 "cells": [
  {
   "cell_type": "markdown",
   "id": "04929432-e076-40ef-b2a7-8e67dc7ba1a3",
   "metadata": {},
   "source": [
    "**SleepInc**, has shared anonymized sleep data from their hot new sleep tracking app SleepScope. Here is the analysis of the lifestyle survey data with Python to discover relationships between exercise, gender, occupation, and sleep quality."
   ]
  },
  {
   "cell_type": "code",
   "execution_count": 78,
   "id": "a622f61f-54d5-468a-83b6-41f0ff404278",
   "metadata": {
    "executionCancelledAt": null,
    "executionTime": 15,
    "lastExecutedAt": 1718032514637,
    "lastExecutedByKernel": "1b8c63c7-9257-4388-836c-85751de744f1",
    "lastScheduledRunId": null,
    "lastSuccessfullyExecutedCode": "import pandas as pd\nsleep_health = pd.read_csv('sleep_health_data.csv')\nsleep_health.head(5)\nsleep_health.columns"
   },
   "outputs": [
    {
     "data": {
      "text/plain": [
       "Index(['Person ID', 'Gender', 'Age', 'Occupation', 'Sleep Duration',\n",
       "       'Quality of Sleep', 'Physical Activity Level', 'Stress Level',\n",
       "       'BMI Category', 'Blood Pressure', 'Heart Rate', 'Daily Steps',\n",
       "       'Sleep Disorder'],\n",
       "      dtype='object')"
      ]
     },
     "execution_count": 78,
     "metadata": {},
     "output_type": "execute_result"
    }
   ],
   "source": [
    "import pandas as pd\n",
    "sleep_health = pd.read_csv('sleep_health_data.csv')\n",
    "sleep_health.head(5)\n",
    "sleep_health.columns"
   ]
  },
  {
   "cell_type": "code",
   "execution_count": 79,
   "id": "8bbb94a7-55b8-4078-bb8b-b40e19094e11",
   "metadata": {
    "executionCancelledAt": null,
    "executionTime": 55,
    "lastExecutedAt": 1718032514692,
    "lastExecutedByKernel": "1b8c63c7-9257-4388-836c-85751de744f1",
    "lastScheduledRunId": null,
    "lastSuccessfullyExecutedCode": "sleep_occ = sleep_health.groupby('Occupation')['Sleep Duration'].mean().reset_index()\n\n# The occupation with the lowest average sleep duration\nlowest_sleep_record = sleep_occ[sleep_occ['Sleep Duration'] == sleep_occ['Sleep Duration'].min()]\nlowest_sleep_occ = lowest_sleep_record['Occupation'].values[0]\nprint(f'Occupation with the lowest average sleep duration: {lowest_sleep_occ}')"
   },
   "outputs": [
    {
     "name": "stdout",
     "output_type": "stream",
     "text": [
      "Occupation with the lowest average sleep duration: Sales Representative\n"
     ]
    }
   ],
   "source": [
    "sleep_occ = sleep_health.groupby('Occupation')['Sleep Duration'].mean().reset_index()\n",
    "\n",
    "# The occupation with the lowest average sleep duration\n",
    "lowest_sleep_record = sleep_occ[sleep_occ['Sleep Duration'] == sleep_occ['Sleep Duration'].min()]\n",
    "lowest_sleep_occ = lowest_sleep_record['Occupation'].values[0]\n",
    "print(f'Occupation with the lowest average sleep duration: {lowest_sleep_occ}')"
   ]
  },
  {
   "cell_type": "code",
   "execution_count": 80,
   "id": "ae18dad4-35a4-4f81-9f98-eeaf50c6ef96",
   "metadata": {
    "executionCancelledAt": null,
    "executionTime": 57,
    "lastExecutedAt": 1718032514749,
    "lastExecutedByKernel": "1b8c63c7-9257-4388-836c-85751de744f1",
    "lastScheduledRunId": null,
    "lastSuccessfullyExecutedCode": "# The occupation with the lowest average sleep quality\nsleep_quality = sleep_health.groupby('Occupation')['Quality of Sleep'].mean().reset_index()\n\nlowest_sleep_quality_rec = sleep_quality[sleep_quality['Quality of Sleep'] == sleep_quality['Quality of Sleep'].min()]\nlowest_sleep_quality_occ = lowest_sleep_quality_rec['Occupation'].values[0]\n\nprint(f'Occupation with the lowest average sleep quality: {lowest_sleep_quality_occ}')\nsame_occ = True if lowest_sleep_occ == lowest_sleep_quality_occ else False\nprint(same_occ)",
    "outputsMetadata": {
     "0": {
      "height": 59,
      "type": "stream"
     }
    }
   },
   "outputs": [
    {
     "name": "stdout",
     "output_type": "stream",
     "text": [
      "Occupation with the lowest average sleep quality: Sales Representative\n",
      "True\n"
     ]
    }
   ],
   "source": [
    "# The occupation with the lowest average sleep quality\n",
    "sleep_quality = sleep_health.groupby('Occupation')['Quality of Sleep'].mean().reset_index()\n",
    "\n",
    "lowest_sleep_quality_rec = sleep_quality[sleep_quality['Quality of Sleep'] == sleep_quality['Quality of Sleep'].min()]\n",
    "lowest_sleep_quality_occ = lowest_sleep_quality_rec['Occupation'].values[0]\n",
    "\n",
    "print(f'Occupation with the lowest average sleep quality: {lowest_sleep_quality_occ}')\n",
    "same_occ = True if lowest_sleep_occ == lowest_sleep_quality_occ else False\n",
    "print(same_occ)"
   ]
  },
  {
   "cell_type": "markdown",
   "id": "892a928d-c6d4-4d18-81c3-b67b204cb6d6",
   "metadata": {},
   "source": [
    "The Sales representative occupation has the lowest average sleep duration and quality too."
   ]
  },
  {
   "cell_type": "code",
   "execution_count": 81,
   "id": "37773362-2bbe-4be1-b7c4-0af0e88ce5ef",
   "metadata": {
    "executionCancelledAt": null,
    "executionTime": 60,
    "lastExecutedAt": 1718032514809,
    "lastExecutedByKernel": "1b8c63c7-9257-4388-836c-85751de744f1",
    "lastScheduledRunId": null,
    "lastSuccessfullyExecutedCode": "bmi_key = sleep_health['BMI Category'].unique()\n\nnorm_insomnia = sleep_health[(sleep_health['BMI Category'] =='Normal') & (sleep_health['Sleep Disorder']== 'Insomnia')].shape[0] / sleep_health[sleep_health['BMI Category'] =='Normal'].shape[0]\n\noverweight_insomnia = sleep_health[(sleep_health['BMI Category'] =='Overweight') & (sleep_health['Sleep Disorder']== 'Insomnia')].shape[0] / sleep_health[sleep_health['BMI Category'] =='Overweight'].shape[0]\n\nobese_insomnia = sleep_health[(sleep_health['BMI Category'] =='Obese') & (sleep_health['Sleep Disorder']== 'Insomnia')].shape[0] / sleep_health[sleep_health['BMI Category'] =='Obese'].shape[0]\n\nbmi_insomnia_ratios = {\n    'Normal':round(norm_insomnia, 2),\n    'Overweight': round(overweight_insomnia, 2),\n    'Obese': round(obese_insomnia, 2)    \n}\nbmi_insomnia_ratios",
    "outputsMetadata": {
     "0": {
      "height": 269,
      "type": "stream"
     }
    }
   },
   "outputs": [
    {
     "data": {
      "text/plain": [
       "{'Normal': 0.04, 'Overweight': 0.43, 'Obese': 0.4}"
      ]
     },
     "execution_count": 81,
     "metadata": {},
     "output_type": "execute_result"
    }
   ],
   "source": [
    "bmi_key = sleep_health['BMI Category'].unique()\n",
    "\n",
    "norm_insomnia = sleep_health[(sleep_health['BMI Category'] =='Normal') & (sleep_health['Sleep Disorder']== 'Insomnia')].shape[0] / sleep_health[sleep_health['BMI Category'] =='Normal'].shape[0]\n",
    "\n",
    "overweight_insomnia = sleep_health[(sleep_health['BMI Category'] =='Overweight') & (sleep_health['Sleep Disorder']== 'Insomnia')].shape[0] / sleep_health[sleep_health['BMI Category'] =='Overweight'].shape[0]\n",
    "\n",
    "obese_insomnia = sleep_health[(sleep_health['BMI Category'] =='Obese') & (sleep_health['Sleep Disorder']== 'Insomnia')].shape[0] / sleep_health[sleep_health['BMI Category'] =='Obese'].shape[0]\n",
    "\n",
    "bmi_insomnia_ratios = {\n",
    "    'Normal':round(norm_insomnia, 2),\n",
    "    'Overweight': round(overweight_insomnia, 2),\n",
    "    'Obese': round(obese_insomnia, 2)    \n",
    "}\n",
    "bmi_insomnia_ratios"
   ]
  }
 ],
 "metadata": {
  "colab": {
   "name": "Welcome to DataCamp Workspaces.ipynb",
   "provenance": []
  },
  "kernelspec": {
   "display_name": "Python 3 (ipykernel)",
   "language": "python",
   "name": "python3"
  },
  "language_info": {
   "codemirror_mode": {
    "name": "ipython",
    "version": 3
   },
   "file_extension": ".py",
   "mimetype": "text/x-python",
   "name": "python",
   "nbconvert_exporter": "python",
   "pygments_lexer": "ipython3",
   "version": "3.11.0"
  }
 },
 "nbformat": 4,
 "nbformat_minor": 5
}
